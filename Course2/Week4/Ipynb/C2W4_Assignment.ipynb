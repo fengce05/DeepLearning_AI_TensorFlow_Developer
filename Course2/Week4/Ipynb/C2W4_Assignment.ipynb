{
 "cells": [
  {
   "cell_type": "markdown",
   "id": "6c6b84a0",
   "metadata": {
    "editable": true,
    "id": "0l5n9ToXGbRC",
    "slideshow": {
     "slide_type": ""
    },
    "tags": []
   },
   "source": [
    "# Week 4: Multi-class Classification\n",
    "\n",
    "Welcome to the last assignment! In this notebook, you will get a chance to work on a multi-class classification problem. You will be using the [Sign Language MNIST](https://www.kaggle.com/datasets/datamunge/sign-language-mnist) dataset, which contains 28x28 images of hands depicting the letters of the english alphabet. \n",
    "\n",
    "#### TIPS FOR SUCCESSFUL GRADING OF YOUR ASSIGNMENT:\n",
    "\n",
    "- All cells are frozen except for the ones where you need to submit your solutions or when explicitly mentioned you can interact with it.\n",
    "\n",
    "\n",
    "- You can add new cells to experiment but these will be omitted by the grader, so don't rely on newly created cells to host your solution code, use the provided places for this.\n",
    "\n",
    "- You can add the comment # grade-up-to-here in any graded cell to signal the grader that it must only evaluate up to that point. This is helpful if you want to check if you are on the right track even if you are not done with the whole assignment. Be sure to remember to delete the comment afterwards!\n",
    "\n",
    "- Avoid using global variables unless you absolutely have to. The grader tests your code in an isolated environment without running all cells from the top. As a result, global variables may be unavailable when scoring your submission. Global variables that are meant to be used will be defined in UPPERCASE.\n",
    "\n",
    "- To submit your notebook, save it and then click on the blue submit button at the beginning of the page.\n",
    "\n",
    "Let's get started!"
   ]
  },
  {
   "cell_type": "code",
   "execution_count": 1,
   "id": "eea99af0",
   "metadata": {
    "deletable": false,
    "editable": false,
    "id": "wYtuKeK0dImp",
    "slideshow": {
     "slide_type": ""
    },
    "tags": [
     "graded"
    ]
   },
   "outputs": [],
   "source": [
    "import os\n",
    "import numpy as np\n",
    "import tensorflow as tf\n",
    "import matplotlib.pyplot as plt"
   ]
  },
  {
   "cell_type": "code",
   "execution_count": 2,
   "id": "5b16fdf8",
   "metadata": {
    "deletable": false,
    "editable": false,
    "slideshow": {
     "slide_type": ""
    },
    "tags": []
   },
   "outputs": [],
   "source": [
    "import unittests"
   ]
  },
  {
   "cell_type": "markdown",
   "id": "378bb0bd",
   "metadata": {
    "editable": true,
    "id": "tnVJZI96IMh0",
    "slideshow": {
     "slide_type": ""
    },
    "tags": []
   },
   "source": [
    "In this assignment you will actually be working with a modified version of the original [Sign Language MNIST](https://www.kaggle.com/datasets/datamunge/sign-language-mnist)  dataset. The original dataset is presented as a csv file, however this makes the pre processing of the data very different from what you have been doing so far. To make loading the images and creating the datasetss more aligned with what you have learned so far, we have already downloaded each image as a .png file. You can find them in the `data/train` and `data/validation` folders. As the names suggest, the images in the first folder will be used for training, and the ones in the latter will be used for validation. \n",
    "\n",
    "Begin by defining some globals with the paths to the training and test folders."
   ]
  },
  {
   "cell_type": "code",
   "execution_count": 3,
   "id": "780e7599",
   "metadata": {
    "deletable": false,
    "editable": false,
    "id": "N3fQlI99JPw9",
    "slideshow": {
     "slide_type": ""
    },
    "tags": [
     "graded"
    ]
   },
   "outputs": [],
   "source": [
    "TRAIN_DIR = 'data/train/'\n",
    "VALIDATION_DIR = 'data/validation/'"
   ]
  },
  {
   "cell_type": "markdown",
   "id": "fba4ea85",
   "metadata": {
    "editable": true,
    "id": "iybvOtoHISHV",
    "slideshow": {
     "slide_type": ""
    },
    "tags": []
   },
   "source": [
    "Let's explore the `./data` folder containing the images. There is a subdirectory for each class. In this case there will be 24 folders one for each letter in the alphabet, except for letters J and Z. Because of gesture motions these two letters can't be represented by an image, and are thus not included on the dataset.\n",
    "\n",
    "The complete tree looks like this:\n",
    "\n",
    "```\n",
    ".└── data/\n",
    "    ├── train/\n",
    "    |    ├── A/\n",
    "    |    │   ├── a1.jpg\n",
    "    |    │   ├── a2.jpg\n",
    "    |    │   └── ...\n",
    "    |    ├── B/\n",
    "    |        ├── b1.jpg\n",
    "    |        ├── b2.jpg\n",
    "    |        └── ...\n",
    "    |    ├── ...\n",
    "    |    ├── I/\n",
    "    |    |    ├── i1.jpg\n",
    "    |    |    ├── i2.jpg\n",
    "    |    |    └── ...\n",
    "    |    ├── K/\n",
    "    |    |    ├── k1.jpg\n",
    "    |    |    ├── k2.jpg\n",
    "    |    |    └── ...\n",
    "    |    ├── ...\n",
    "    |    └── Y/\n",
    "    |        ├── y1.jpg\n",
    "    |        ├── y2.jpg\n",
    "    |        └── ...\n",
    "    └── validation/\n",
    "         ├── A/\n",
    "         │   ├── a1.jpg\n",
    "         │   ├── a2.jpg\n",
    "         │   └── ...\n",
    "         ├── B/\n",
    "         |   ├── b1.jpg\n",
    "         |   ├── b2.jpg\n",
    "         |   └── ...\n",
    "         ├── ...\n",
    "         ├── I/\n",
    "         |    ├── i1.jpg\n",
    "         |    ├── i2.jpg\n",
    "         |    └── ...\n",
    "         ├── K/\n",
    "         |    ├── k1.jpg\n",
    "         |    ├── k2.jpg\n",
    "         |    └── ...\n",
    "         ├── ...\n",
    "         └── Y/\n",
    "             ├── y1.jpg\n",
    "             ├── y2.jpg\n",
    "             └── ...\n",
    "```"
   ]
  },
  {
   "cell_type": "markdown",
   "id": "2c4ec28c-2e17-4fba-bfed-4d70b26c22ab",
   "metadata": {
    "editable": true,
    "slideshow": {
     "slide_type": ""
    },
    "tags": []
   },
   "source": [
    "Let's take a look at what the images look like."
   ]
  },
  {
   "cell_type": "code",
   "execution_count": 4,
   "id": "68984793",
   "metadata": {
    "colab": {
     "base_uri": "https://localhost:8080/"
    },
    "deletable": false,
    "editable": false,
    "id": "ftfeq3JYagks",
    "outputId": "3ed1dd14-7483-425c-d172-b982aeca549c",
    "slideshow": {
     "slide_type": ""
    },
    "tags": []
   },
   "outputs": [
    {
     "data": {
      "image/png": "[encoded data removed]",
      "text/plain": [
       "<Figure size 1400x300 with 6 Axes>"
      ]
     },
     "metadata": {},
     "output_type": "display_data"
    }
   ],
   "source": [
    "fig, axes = plt.subplots(1, 6, figsize=(14, 3))\n",
    "fig.suptitle('Sign Language MNIST Images', fontsize=16)\n",
    "\n",
    "# Plot one image from the first 4 letters\n",
    "for ii, letter in enumerate(['A' , 'B', 'C', 'D', 'E', 'F']):\n",
    "    dir = f'./data/train/{letter}'\n",
    "    img = tf.keras.preprocessing.image.load_img(dir+'/'+os.listdir(dir)[0])\n",
    "    axes[ii].imshow(img)\n",
    "    axes[ii].set_title(f'Example of letter {letter}')"
   ]
  },
  {
   "cell_type": "markdown",
   "id": "34382227-3325-4172-8892-04f739bf5365",
   "metadata": {
    "editable": true,
    "slideshow": {
     "slide_type": ""
    },
    "tags": []
   },
   "source": [
    "By plotting the images with `matplotlib` you can readily see images have a resolution of 28x28 (look at the image axes) and are in greyscale, but you can double check this by using the code below:"
   ]
  },
  {
   "cell_type": "code",
   "execution_count": 5,
   "id": "683dce57-81aa-4217-b10e-6b725137fa1e",
   "metadata": {
    "deletable": false,
    "editable": false,
    "slideshow": {
     "slide_type": ""
    },
    "tags": []
   },
   "outputs": [
    {
     "name": "stdout",
     "output_type": "stream",
     "text": [
      "Each image has shape: (28, 28, 3)\n"
     ]
    }
   ],
   "source": [
    "# Convert the image into its numpy array representation\n",
    "sample_array = tf.keras.preprocessing.image.img_to_array(img)\n",
    "\n",
    "print(f\"Each image has shape: {sample_array.shape}\")"
   ]
  },
  {
   "cell_type": "markdown",
   "id": "138dce69-f614-4783-8137-24380aebaa7c",
   "metadata": {
    "editable": true,
    "slideshow": {
     "slide_type": ""
    },
    "tags": []
   },
   "source": [
    "Don't worry about the last dimension. That is because the [`img_to_array`](https://www.tensorflow.org/api_docs/python/tf/keras/utils/img_to_array) function returns a 3D array. You can easily check that actually it has repeated the same values in each dimension, for example, take a look at the first 5 columns of the image. All you really care about is that your image is 28x28 pixels. "
   ]
  },
  {
   "cell_type": "code",
   "execution_count": 6,
   "id": "3436a798-0c8a-41a3-9209-2981b1c7f86a",
   "metadata": {
    "editable": false,
    "slideshow": {
     "slide_type": ""
    },
    "tags": []
   },
   "outputs": [
    {
     "data": {
      "text/plain": [
       "array([[136., 136., 136.],\n",
       "       [139., 139., 139.],\n",
       "       [140., 140., 140.],\n",
       "       [141., 141., 141.],\n",
       "       [144., 144., 144.]], dtype=float32)"
      ]
     },
     "execution_count": 6,
     "metadata": {},
     "output_type": "execute_result"
    }
   ],
   "source": [
    "sample_array[0,:5]"
   ]
  },
  {
   "cell_type": "markdown",
   "id": "3f716d86",
   "metadata": {
    "editable": true,
    "id": "0QNkjIRCN5Kg",
    "slideshow": {
     "slide_type": ""
    },
    "tags": []
   },
   "source": [
    "## Creating the datasets for the CNN\n",
    "\n",
    "### Exercise 1: train_val_datasets\n",
    "\n",
    "Your first task is to code the function that will create the datasets that will yield batches of images, both for training and validation. For this complete the `train_val_datasets` function below.\n",
    "\n",
    "For grading purposes, make sure to use a **batch size of 32**. "
   ]
  },
  {
   "cell_type": "code",
   "execution_count": 7,
   "id": "cc6b5845",
   "metadata": {
    "cellView": "code",
    "deletable": false,
    "editable": true,
    "id": "9ZDIvKGtNISO",
    "lines_to_next_cell": 2,
    "slideshow": {
     "slide_type": ""
    },
    "tags": [
     "graded"
    ]
   },
   "outputs": [],
   "source": [
    "# GRADED FUNCTION: train_val_datasets\n",
    "def train_val_datasets():\n",
    "    \"\"\"Create train and validation datasets\n",
    "\n",
    "    Returns:\n",
    "        (tf.data.Dataset, tf.data.Dataset): train and validation datasets\n",
    "    \"\"\"\n",
    "    ### START CODE HERE ###\n",
    "    train_dataset = tf.keras.utils.image_dataset_from_directory( \n",
    "        directory=TRAIN_DIR,\n",
    "        batch_size=32,\n",
    "        image_size=(28,28),\n",
    "\t\tlabel_mode='categorical',\n",
    "        color_mode = \"grayscale\", # Use this argument to get just one color dimension, because it is greyscale \n",
    "    ) \n",
    "    \n",
    "    validation_dataset = tf.keras.utils.image_dataset_from_directory( \n",
    "        directory=VALIDATION_DIR,\n",
    "        batch_size=32,\n",
    "        image_size=(28,28),\n",
    "\t\tlabel_mode='categorical',\n",
    "        color_mode = \"grayscale\", # Use this argument to get just one color dimension, because it imgs are greyscale \n",
    "    ) \n",
    "    ### END CODE HERE ###\n",
    "    \n",
    "    return train_dataset, validation_dataset"
   ]
  },
  {
   "cell_type": "code",
   "execution_count": 8,
   "id": "aea10e2d",
   "metadata": {
    "colab": {
     "base_uri": "https://localhost:8080/"
    },
    "deletable": false,
    "editable": false,
    "id": "2oxxBZDwPozr",
    "outputId": "5f1a552b-652d-42f1-e3d1-9aa58c7423e1",
    "slideshow": {
     "slide_type": ""
    },
    "tags": []
   },
   "outputs": [
    {
     "name": "stdout",
     "output_type": "stream",
     "text": [
      "Found 27455 files belonging to 24 classes.\n",
      "Found 7173 files belonging to 24 classes.\n",
      "Images of train dataset have shape: (None, 28, 28, 1)\n",
      "Labels of train dataset have shape: (None, 24)\n",
      "Images of validation dataset have shape: (None, 28, 28, 1)\n",
      "Labels of validation dataset have shape: (None, 24)\n"
     ]
    }
   ],
   "source": [
    "# Create train and validation datasets\n",
    "train_dataset, validation_dataset = train_val_datasets()\n",
    "print(f\"Images of train dataset have shape: {train_dataset.element_spec[0].shape}\")\n",
    "print(f\"Labels of train dataset have shape: {train_dataset.element_spec[1].shape}\")\n",
    "print(f\"Images of validation dataset have shape: {validation_dataset.element_spec[0].shape}\")\n",
    "print(f\"Labels of validation dataset have shape: {validation_dataset.element_spec[1].shape}\")   "
   ]
  },
  {
   "cell_type": "markdown",
   "id": "01c172cc",
   "metadata": {
    "editable": true,
    "id": "cok5oQa5Rknv",
    "slideshow": {
     "slide_type": ""
    },
    "tags": []
   },
   "source": [
    "**Expected Output:**\n",
    "```\n",
    "Found 27455 files belonging to 24 classes.\n",
    "Found 7173 files belonging to 24 classes.\n",
    "Images of train dataset have shape: (None, 28, 28, 1)\n",
    "Labels of train dataset have shape: (None, 24)\n",
    "Images of validation dataset have shape: (None, 28, 28, 1)\n",
    "Labels of validation dataset have shape: (None, 24)\n",
    "```"
   ]
  },
  {
   "cell_type": "code",
   "execution_count": 9,
   "id": "701be9fc",
   "metadata": {
    "deletable": false,
    "editable": false,
    "slideshow": {
     "slide_type": ""
    },
    "tags": []
   },
   "outputs": [
    {
     "name": "stdout",
     "output_type": "stream",
     "text": [
      "\u001b[92m All tests passed!\n"
     ]
    }
   ],
   "source": [
    "# Test your function\n",
    "unittests.test_train_val_datasets(train_val_datasets)"
   ]
  },
  {
   "cell_type": "markdown",
   "id": "ce27c239",
   "metadata": {
    "editable": true,
    "id": "CkHUj4PsP_jT",
    "slideshow": {
     "slide_type": ""
    },
    "tags": []
   },
   "source": [
    "## Coding the CNN\n",
    "\n",
    "### Exercise : create_model\n",
    "\n",
    "One last step before training is to define the architecture of the model that will be trained.\n",
    "\n",
    "Complete the `create_model` function below. This function should return a Keras' model that uses the [`Sequential`](https://www.tensorflow.org/api_docs/python/tf/keras/Sequential) API.\n",
    "\n",
    "A couple of things to keep in mind when defining the architecture:\n",
    "\n",
    "- Start the model with an [`Input`](https://www.tensorflow.org/api_docs/python/tf/keras/Input) followed by a layer that rescales your images so that each pixel has values between 0 and 1 \n",
    "  \n",
    "- There different ways to implement the output layer, however, we expect the last layer of your model to have a number of units that corresponds to the number of possible categories, as well as the correct activation function.\n",
    "\n",
    "- Aside from defining the architecture of the model, you should also compile it so make sure to use a `loss` function that is suitable for multi-class classification. Remember to also define suitable `metric` to monitor.\n",
    "\n",
    "**Note that you should use no more than 2 Conv2D and 2 MaxPooling2D layers to achieve the desired performance. You can also add dropout layers to improve training**"
   ]
  },
  {
   "cell_type": "code",
   "execution_count": 10,
   "id": "db7e081e",
   "metadata": {
    "cellView": "code",
    "deletable": false,
    "editable": true,
    "id": "Rmb7S32cgRqS",
    "slideshow": {
     "slide_type": ""
    },
    "tags": [
     "graded"
    ]
   },
   "outputs": [],
   "source": [
    "# GRADED FUNCTION: create_model\n",
    "def create_model():\n",
    "    \"\"\"Create the classifier model\n",
    "\n",
    "    Returns:\n",
    "        tf.keras.model.Sequential: CNN for multi-class classification\n",
    "    \"\"\"\n",
    "    ### START CODE HERE ###      \n",
    "    \n",
    "    # Define the model\n",
    "    # Use no more than 2 Conv2D and 2 MaxPooling2D\n",
    "    model = tf.keras.models.Sequential([ \n",
    "        # Define an input layer\n",
    "        tf.keras.Input((28,28,1)), # Set correct input size\n",
    "        # Rescale images\n",
    "        tf.keras.layers.Rescaling(1./255),\n",
    "        tf.keras.layers.RandomFlip(\"horizontal\"),\n",
    "        tf.keras.layers.Conv2D(32,(3,3),activation='relu'),\n",
    "        tf.keras.layers.MaxPool2D(2,2),\n",
    "        tf.keras.layers.Conv2D(32,(3,3),activation='relu'),\n",
    "        tf.keras.layers.MaxPool2D(2,2),\n",
    "        tf.keras.layers.Dropout(0.1),\n",
    "        tf.keras.layers.Flatten(),\n",
    "        tf.keras.layers.Dense(256,activation='relu'),\n",
    "        tf.keras.layers.Dense(24,activation='softmax'),\n",
    "        ]) \n",
    "\n",
    "    model.compile(optimizer = 'rmsprop',\n",
    "                  loss = 'categorical_crossentropy',\n",
    "                  metrics = ['accuracy'])\n",
    "\n",
    "    ### END CODE HERE ### \n",
    "    return model"
   ]
  },
  {
   "cell_type": "markdown",
   "id": "65cf159d",
   "metadata": {},
   "source": [
    "The next cell allows you to check the number of total and trainable parameters of your model and prompts a warning in case these exceeds those of a reference solution, this serves the following 3 purposes listed in order of priority:\n",
    "\n",
    "- Helps you prevent crashing the kernel during training.\n",
    "\n",
    "- Helps you avoid longer-than-necessary training times.\n",
    "- Provides a reasonable estimate of the size of your model. In general you will usually prefer smaller models given that they accomplish their goal successfully.\n",
    "\n",
    "\n",
    "**Notice that this is just informative** and may be very well below the actual limit for size of the model necessary to crash the kernel. So even if you exceed this reference you are probably fine. However, **if the kernel crashes during training or it is taking a very long time and your model is larger than the reference, come back here and try to get the number of parameters closer to the reference.**"
   ]
  },
  {
   "cell_type": "code",
   "execution_count": 11,
   "id": "ded3d9df-3490-438f-ba4f-c03500d5ed69",
   "metadata": {
    "colab": {
     "base_uri": "https://localhost:8080/"
    },
    "deletable": false,
    "editable": false,
    "id": "-e7ywtgZS5pU",
    "lines_to_next_cell": 2,
    "outputId": "5bc05d6f-91fe-4cbf-a6b4-1d7495b47bef",
    "slideshow": {
     "slide_type": ""
    },
    "tags": []
   },
   "outputs": [
    {
     "name": "stdout",
     "output_type": "stream",
     "text": [
      "\u001b[92mYour model has 220,792 total parameters and the reference is 30,000\n",
      "\u001b[91mWarning! this exceeds the reference which is 30,000. If the kernel crashes while training, switch to a simpler architecture.\n",
      "\n",
      "\u001b[92mYour model has 220,792 trainable parameters and the reference is 30,000\n",
      "\u001b[91mWarning! this exceeds the reference which is 30,000. If the kernel crashes while training, switch to a simpler architecture.\n"
     ]
    }
   ],
   "source": [
    "# Create your model\n",
    "model = create_model()\n",
    "\n",
    "# Check parameter count against a reference solution\n",
    "unittests.parameter_count(model)"
   ]
  },
  {
   "cell_type": "markdown",
   "id": "a78e2044-003d-4c4d-b4a7-a81b337fb2a0",
   "metadata": {
    "editable": true,
    "slideshow": {
     "slide_type": ""
    },
    "tags": []
   },
   "source": [
    "Check that the input and output shape of your model are correct"
   ]
  },
  {
   "cell_type": "code",
   "execution_count": 12,
   "id": "1bf5da08-ec40-468b-bde7-b1f0508bf37f",
   "metadata": {
    "deletable": false,
    "editable": false,
    "slideshow": {
     "slide_type": ""
    },
    "tags": []
   },
   "outputs": [
    {
     "name": "stdout",
     "output_type": "stream",
     "text": [
      "Input shape: (None, 28, 28, 1)\n",
      "Output shape: (None, 24)\n"
     ]
    }
   ],
   "source": [
    "print(f'Input shape: {model.input_shape}')\n",
    "print(f'Output shape: {model.output_shape}')"
   ]
  },
  {
   "cell_type": "markdown",
   "id": "71fc07ca",
   "metadata": {
    "editable": true,
    "slideshow": {
     "slide_type": ""
    },
    "tags": []
   },
   "source": [
    "Expected output:\n",
    "\n",
    "```\n",
    "Input shape: (None, 28, 28, 1)\n",
    "Output shape: (None, 24)\n",
    "```"
   ]
  },
  {
   "cell_type": "markdown",
   "id": "c6c37dc5-d9e1-4205-9d08-aa75ef0d5f84",
   "metadata": {
    "editable": true,
    "slideshow": {
     "slide_type": ""
    },
    "tags": []
   },
   "source": [
    "Using the `summary` method you can visulize the model you just defined."
   ]
  },
  {
   "cell_type": "code",
   "execution_count": 13,
   "id": "f3a36bbb-efe0-4ab1-bb46-6c183a936265",
   "metadata": {
    "deletable": false,
    "editable": false,
    "slideshow": {
     "slide_type": ""
    },
    "tags": []
   },
   "outputs": [
    {
     "data": {
      "text/html": [
       "<pre style=\"white-space:pre;overflow-x:auto;line-height:normal;font-family:Menlo,'DejaVu Sans Mono',consolas,'Courier New',monospace\"><span style=\"font-weight: bold\">Model: \"sequential\"</span>\n",
       "</pre>\n"
      ],
      "text/plain": [
       "\u001b[1mModel: \"sequential\"\u001b[0m\n"
      ]
     },
     "metadata": {},
     "output_type": "display_data"
    },
    {
     "data": {
      "text/html": [
       "<pre style=\"white-space:pre;overflow-x:auto;line-height:normal;font-family:Menlo,'DejaVu Sans Mono',consolas,'Courier New',monospace\">┏━━━━━━━━━━━━━━━━━━━━━━━━━━━━━━━━━┳━━━━━━━━━━━━━━━━━━━━━━━━┳━━━━━━━━━━━━━━━┓\n",
       "┃<span style=\"font-weight: bold\"> Layer (type)                    </span>┃<span style=\"font-weight: bold\"> Output Shape           </span>┃<span style=\"font-weight: bold\">       Param # </span>┃\n",
       "┡━━━━━━━━━━━━━━━━━━━━━━━━━━━━━━━━━╇━━━━━━━━━━━━━━━━━━━━━━━━╇━━━━━━━━━━━━━━━┩\n",
       "│ rescaling (<span style=\"color: #0087ff; text-decoration-color: #0087ff\">Rescaling</span>)           │ (<span style=\"color: #00d7ff; text-decoration-color: #00d7ff\">None</span>, <span style=\"color: #00af00; text-decoration-color: #00af00\">28</span>, <span style=\"color: #00af00; text-decoration-color: #00af00\">28</span>, <span style=\"color: #00af00; text-decoration-color: #00af00\">1</span>)      │             <span style=\"color: #00af00; text-decoration-color: #00af00\">0</span> │\n",
       "├─────────────────────────────────┼────────────────────────┼───────────────┤\n",
       "│ random_flip (<span style=\"color: #0087ff; text-decoration-color: #0087ff\">RandomFlip</span>)        │ (<span style=\"color: #00d7ff; text-decoration-color: #00d7ff\">None</span>, <span style=\"color: #00af00; text-decoration-color: #00af00\">28</span>, <span style=\"color: #00af00; text-decoration-color: #00af00\">28</span>, <span style=\"color: #00af00; text-decoration-color: #00af00\">1</span>)      │             <span style=\"color: #00af00; text-decoration-color: #00af00\">0</span> │\n",
       "├─────────────────────────────────┼────────────────────────┼───────────────┤\n",
       "│ conv2d (<span style=\"color: #0087ff; text-decoration-color: #0087ff\">Conv2D</span>)                 │ (<span style=\"color: #00d7ff; text-decoration-color: #00d7ff\">None</span>, <span style=\"color: #00af00; text-decoration-color: #00af00\">26</span>, <span style=\"color: #00af00; text-decoration-color: #00af00\">26</span>, <span style=\"color: #00af00; text-decoration-color: #00af00\">32</span>)     │           <span style=\"color: #00af00; text-decoration-color: #00af00\">320</span> │\n",
       "├─────────────────────────────────┼────────────────────────┼───────────────┤\n",
       "│ max_pooling2d (<span style=\"color: #0087ff; text-decoration-color: #0087ff\">MaxPooling2D</span>)    │ (<span style=\"color: #00d7ff; text-decoration-color: #00d7ff\">None</span>, <span style=\"color: #00af00; text-decoration-color: #00af00\">13</span>, <span style=\"color: #00af00; text-decoration-color: #00af00\">13</span>, <span style=\"color: #00af00; text-decoration-color: #00af00\">32</span>)     │             <span style=\"color: #00af00; text-decoration-color: #00af00\">0</span> │\n",
       "├─────────────────────────────────┼────────────────────────┼───────────────┤\n",
       "│ conv2d_1 (<span style=\"color: #0087ff; text-decoration-color: #0087ff\">Conv2D</span>)               │ (<span style=\"color: #00d7ff; text-decoration-color: #00d7ff\">None</span>, <span style=\"color: #00af00; text-decoration-color: #00af00\">11</span>, <span style=\"color: #00af00; text-decoration-color: #00af00\">11</span>, <span style=\"color: #00af00; text-decoration-color: #00af00\">32</span>)     │         <span style=\"color: #00af00; text-decoration-color: #00af00\">9,248</span> │\n",
       "├─────────────────────────────────┼────────────────────────┼───────────────┤\n",
       "│ max_pooling2d_1 (<span style=\"color: #0087ff; text-decoration-color: #0087ff\">MaxPooling2D</span>)  │ (<span style=\"color: #00d7ff; text-decoration-color: #00d7ff\">None</span>, <span style=\"color: #00af00; text-decoration-color: #00af00\">5</span>, <span style=\"color: #00af00; text-decoration-color: #00af00\">5</span>, <span style=\"color: #00af00; text-decoration-color: #00af00\">32</span>)       │             <span style=\"color: #00af00; text-decoration-color: #00af00\">0</span> │\n",
       "├─────────────────────────────────┼────────────────────────┼───────────────┤\n",
       "│ dropout (<span style=\"color: #0087ff; text-decoration-color: #0087ff\">Dropout</span>)               │ (<span style=\"color: #00d7ff; text-decoration-color: #00d7ff\">None</span>, <span style=\"color: #00af00; text-decoration-color: #00af00\">5</span>, <span style=\"color: #00af00; text-decoration-color: #00af00\">5</span>, <span style=\"color: #00af00; text-decoration-color: #00af00\">32</span>)       │             <span style=\"color: #00af00; text-decoration-color: #00af00\">0</span> │\n",
       "├─────────────────────────────────┼────────────────────────┼───────────────┤\n",
       "│ flatten (<span style=\"color: #0087ff; text-decoration-color: #0087ff\">Flatten</span>)               │ (<span style=\"color: #00d7ff; text-decoration-color: #00d7ff\">None</span>, <span style=\"color: #00af00; text-decoration-color: #00af00\">800</span>)            │             <span style=\"color: #00af00; text-decoration-color: #00af00\">0</span> │\n",
       "├─────────────────────────────────┼────────────────────────┼───────────────┤\n",
       "│ dense (<span style=\"color: #0087ff; text-decoration-color: #0087ff\">Dense</span>)                   │ (<span style=\"color: #00d7ff; text-decoration-color: #00d7ff\">None</span>, <span style=\"color: #00af00; text-decoration-color: #00af00\">256</span>)            │       <span style=\"color: #00af00; text-decoration-color: #00af00\">205,056</span> │\n",
       "├─────────────────────────────────┼────────────────────────┼───────────────┤\n",
       "│ dense_1 (<span style=\"color: #0087ff; text-decoration-color: #0087ff\">Dense</span>)                 │ (<span style=\"color: #00d7ff; text-decoration-color: #00d7ff\">None</span>, <span style=\"color: #00af00; text-decoration-color: #00af00\">24</span>)             │         <span style=\"color: #00af00; text-decoration-color: #00af00\">6,168</span> │\n",
       "└─────────────────────────────────┴────────────────────────┴───────────────┘\n",
       "</pre>\n"
      ],
      "text/plain": [
       "┏━━━━━━━━━━━━━━━━━━━━━━━━━━━━━━━━━┳━━━━━━━━━━━━━━━━━━━━━━━━┳━━━━━━━━━━━━━━━┓\n",
       "┃\u001b[1m \u001b[0m\u001b[1mLayer (type)                   \u001b[0m\u001b[1m \u001b[0m┃\u001b[1m \u001b[0m\u001b[1mOutput Shape          \u001b[0m\u001b[1m \u001b[0m┃\u001b[1m \u001b[0m\u001b[1m      Param #\u001b[0m\u001b[1m \u001b[0m┃\n",
       "┡━━━━━━━━━━━━━━━━━━━━━━━━━━━━━━━━━╇━━━━━━━━━━━━━━━━━━━━━━━━╇━━━━━━━━━━━━━━━┩\n",
       "│ rescaling (\u001b[38;5;33mRescaling\u001b[0m)           │ (\u001b[38;5;45mNone\u001b[0m, \u001b[38;5;34m28\u001b[0m, \u001b[38;5;34m28\u001b[0m, \u001b[38;5;34m1\u001b[0m)      │             \u001b[38;5;34m0\u001b[0m │\n",
       "├─────────────────────────────────┼────────────────────────┼───────────────┤\n",
       "│ random_flip (\u001b[38;5;33mRandomFlip\u001b[0m)        │ (\u001b[38;5;45mNone\u001b[0m, \u001b[38;5;34m28\u001b[0m, \u001b[38;5;34m28\u001b[0m, \u001b[38;5;34m1\u001b[0m)      │             \u001b[38;5;34m0\u001b[0m │\n",
       "├─────────────────────────────────┼────────────────────────┼───────────────┤\n",
       "│ conv2d (\u001b[38;5;33mConv2D\u001b[0m)                 │ (\u001b[38;5;45mNone\u001b[0m, \u001b[38;5;34m26\u001b[0m, \u001b[38;5;34m26\u001b[0m, \u001b[38;5;34m32\u001b[0m)     │           \u001b[38;5;34m320\u001b[0m │\n",
       "├─────────────────────────────────┼────────────────────────┼───────────────┤\n",
       "│ max_pooling2d (\u001b[38;5;33mMaxPooling2D\u001b[0m)    │ (\u001b[38;5;45mNone\u001b[0m, \u001b[38;5;34m13\u001b[0m, \u001b[38;5;34m13\u001b[0m, \u001b[38;5;34m32\u001b[0m)     │             \u001b[38;5;34m0\u001b[0m │\n",
       "├─────────────────────────────────┼────────────────────────┼───────────────┤\n",
       "│ conv2d_1 (\u001b[38;5;33mConv2D\u001b[0m)               │ (\u001b[38;5;45mNone\u001b[0m, \u001b[38;5;34m11\u001b[0m, \u001b[38;5;34m11\u001b[0m, \u001b[38;5;34m32\u001b[0m)     │         \u001b[38;5;34m9,248\u001b[0m │\n",
       "├─────────────────────────────────┼────────────────────────┼───────────────┤\n",
       "│ max_pooling2d_1 (\u001b[38;5;33mMaxPooling2D\u001b[0m)  │ (\u001b[38;5;45mNone\u001b[0m, \u001b[38;5;34m5\u001b[0m, \u001b[38;5;34m5\u001b[0m, \u001b[38;5;34m32\u001b[0m)       │             \u001b[38;5;34m0\u001b[0m │\n",
       "├─────────────────────────────────┼────────────────────────┼───────────────┤\n",
       "│ dropout (\u001b[38;5;33mDropout\u001b[0m)               │ (\u001b[38;5;45mNone\u001b[0m, \u001b[38;5;34m5\u001b[0m, \u001b[38;5;34m5\u001b[0m, \u001b[38;5;34m32\u001b[0m)       │             \u001b[38;5;34m0\u001b[0m │\n",
       "├─────────────────────────────────┼────────────────────────┼───────────────┤\n",
       "│ flatten (\u001b[38;5;33mFlatten\u001b[0m)               │ (\u001b[38;5;45mNone\u001b[0m, \u001b[38;5;34m800\u001b[0m)            │             \u001b[38;5;34m0\u001b[0m │\n",
       "├─────────────────────────────────┼────────────────────────┼───────────────┤\n",
       "│ dense (\u001b[38;5;33mDense\u001b[0m)                   │ (\u001b[38;5;45mNone\u001b[0m, \u001b[38;5;34m256\u001b[0m)            │       \u001b[38;5;34m205,056\u001b[0m │\n",
       "├─────────────────────────────────┼────────────────────────┼───────────────┤\n",
       "│ dense_1 (\u001b[38;5;33mDense\u001b[0m)                 │ (\u001b[38;5;45mNone\u001b[0m, \u001b[38;5;34m24\u001b[0m)             │         \u001b[38;5;34m6,168\u001b[0m │\n",
       "└─────────────────────────────────┴────────────────────────┴───────────────┘\n"
      ]
     },
     "metadata": {},
     "output_type": "display_data"
    },
    {
     "data": {
      "text/html": [
       "<pre style=\"white-space:pre;overflow-x:auto;line-height:normal;font-family:Menlo,'DejaVu Sans Mono',consolas,'Courier New',monospace\"><span style=\"font-weight: bold\"> Total params: </span><span style=\"color: #00af00; text-decoration-color: #00af00\">220,792</span> (862.47 KB)\n",
       "</pre>\n"
      ],
      "text/plain": [
       "\u001b[1m Total params: \u001b[0m\u001b[38;5;34m220,792\u001b[0m (862.47 KB)\n"
      ]
     },
     "metadata": {},
     "output_type": "display_data"
    },
    {
     "data": {
      "text/html": [
       "<pre style=\"white-space:pre;overflow-x:auto;line-height:normal;font-family:Menlo,'DejaVu Sans Mono',consolas,'Courier New',monospace\"><span style=\"font-weight: bold\"> Trainable params: </span><span style=\"color: #00af00; text-decoration-color: #00af00\">220,792</span> (862.47 KB)\n",
       "</pre>\n"
      ],
      "text/plain": [
       "\u001b[1m Trainable params: \u001b[0m\u001b[38;5;34m220,792\u001b[0m (862.47 KB)\n"
      ]
     },
     "metadata": {},
     "output_type": "display_data"
    },
    {
     "data": {
      "text/html": [
       "<pre style=\"white-space:pre;overflow-x:auto;line-height:normal;font-family:Menlo,'DejaVu Sans Mono',consolas,'Courier New',monospace\"><span style=\"font-weight: bold\"> Non-trainable params: </span><span style=\"color: #00af00; text-decoration-color: #00af00\">0</span> (0.00 B)\n",
       "</pre>\n"
      ],
      "text/plain": [
       "\u001b[1m Non-trainable params: \u001b[0m\u001b[38;5;34m0\u001b[0m (0.00 B)\n"
      ]
     },
     "metadata": {},
     "output_type": "display_data"
    }
   ],
   "source": [
    "model.summary()"
   ]
  },
  {
   "cell_type": "markdown",
   "id": "42024d2f",
   "metadata": {},
   "source": [
    "\n",
    "Check that the architecture you used is compatible with the dataset (you can ignore the warnings prompted by using the GPU):"
   ]
  },
  {
   "cell_type": "code",
   "execution_count": 14,
   "id": "c8f5b744",
   "metadata": {
    "deletable": false,
    "editable": false
   },
   "outputs": [
    {
     "name": "stderr",
     "output_type": "stream",
     "text": [
      "WARNING: All log messages before absl::InitializeLog() is called are written to STDERR\n",
      "I0000 00:00:1753588004.857734   19985 service.cc:145] XLA service 0x77fbf0005e80 initialized for platform CUDA (this does not guarantee that XLA will be used). Devices:\n",
      "I0000 00:00:1753588004.857784   19985 service.cc:153]   StreamExecutor device (0): NVIDIA A10G, Compute Capability 8.6\n",
      "I0000 00:00:1753588007.007494   19985 device_compiler.h:188] Compiled cluster using XLA!  This line is logged at most once for the lifetime of the process.\n"
     ]
    },
    {
     "name": "stdout",
     "output_type": "stream",
     "text": [
      "predictions have shape: (32, 24)\n"
     ]
    }
   ],
   "source": [
    "for images, labels in train_dataset.take(1):\n",
    "\texample_batch_images = images\n",
    "\texample_batch_labels = labels\n",
    "\t\n",
    "try:\n",
    "\tmodel.evaluate(example_batch_images, example_batch_labels, verbose=False)\n",
    "except:\n",
    "\tprint(\"Your model is not compatible with the dataset you defined earlier. Check that the loss function, last layer and label_mode are compatible with one another.\")\n",
    "else:\n",
    "\tpredictions = model.predict(example_batch_images, verbose=False)\n",
    "\tprint(f\"predictions have shape: {predictions.shape}\")"
   ]
  },
  {
   "cell_type": "markdown",
   "id": "255fe3ea",
   "metadata": {},
   "source": [
    "**Expected output:**\n",
    "\n",
    "```\n",
    "predictions have shape: (32, 24)\n",
    "```"
   ]
  },
  {
   "cell_type": "code",
   "execution_count": 15,
   "id": "f26fb111",
   "metadata": {
    "deletable": false,
    "editable": false,
    "slideshow": {
     "slide_type": ""
    },
    "tags": []
   },
   "outputs": [
    {
     "name": "stdout",
     "output_type": "stream",
     "text": [
      "\u001b[92m All tests passed!\n"
     ]
    }
   ],
   "source": [
    "# Test your function\n",
    "unittests.test_create_model(create_model)"
   ]
  },
  {
   "cell_type": "markdown",
   "id": "8002895d-c41c-41ce-9062-00dd155930a2",
   "metadata": {
    "editable": true,
    "slideshow": {
     "slide_type": ""
    },
    "tags": []
   },
   "source": [
    "Finally, you can go ahead and train your model"
   ]
  },
  {
   "cell_type": "code",
   "execution_count": 16,
   "id": "e11ebaca-f418-452a-b420-e1260fcd89ee",
   "metadata": {
    "colab": {
     "base_uri": "https://localhost:8080/"
    },
    "deletable": false,
    "editable": false,
    "id": "-e7ywtgZS5pU",
    "lines_to_next_cell": 2,
    "outputId": "5bc05d6f-91fe-4cbf-a6b4-1d7495b47bef",
    "slideshow": {
     "slide_type": ""
    },
    "tags": []
   },
   "outputs": [
    {
     "name": "stdout",
     "output_type": "stream",
     "text": [
      "Epoch 1/15\n",
      "\u001b[1m858/858\u001b[0m \u001b[32m━━━━━━━━━━━━━━━━━━━━\u001b[0m\u001b[37m\u001b[0m \u001b[1m18s\u001b[0m 15ms/step - accuracy: 0.3744 - loss: 2.0860 - val_accuracy: 0.7898 - val_loss: 0.6837\n",
      "Epoch 2/15\n",
      "\u001b[1m858/858\u001b[0m \u001b[32m━━━━━━━━━━━━━━━━━━━━\u001b[0m\u001b[37m\u001b[0m \u001b[1m4s\u001b[0m 5ms/step - accuracy: 0.9050 - loss: 0.3074 - val_accuracy: 0.8114 - val_loss: 0.6036\n",
      "Epoch 3/15\n",
      "\u001b[1m858/858\u001b[0m \u001b[32m━━━━━━━━━━━━━━━━━━━━\u001b[0m\u001b[37m\u001b[0m \u001b[1m4s\u001b[0m 5ms/step - accuracy: 0.9731 - loss: 0.0847 - val_accuracy: 0.9023 - val_loss: 0.3277\n",
      "Epoch 4/15\n",
      "\u001b[1m858/858\u001b[0m \u001b[32m━━━━━━━━━━━━━━━━━━━━\u001b[0m\u001b[37m\u001b[0m \u001b[1m4s\u001b[0m 5ms/step - accuracy: 0.9889 - loss: 0.0350 - val_accuracy: 0.9099 - val_loss: 0.3373\n",
      "Epoch 5/15\n",
      "\u001b[1m858/858\u001b[0m \u001b[32m━━━━━━━━━━━━━━━━━━━━\u001b[0m\u001b[37m\u001b[0m \u001b[1m4s\u001b[0m 5ms/step - accuracy: 0.9941 - loss: 0.0205 - val_accuracy: 0.8780 - val_loss: 0.5371\n",
      "Epoch 6/15\n",
      "\u001b[1m858/858\u001b[0m \u001b[32m━━━━━━━━━━━━━━━━━━━━\u001b[0m\u001b[37m\u001b[0m \u001b[1m4s\u001b[0m 5ms/step - accuracy: 0.9959 - loss: 0.0133 - val_accuracy: 0.9065 - val_loss: 0.4163\n",
      "Epoch 7/15\n",
      "\u001b[1m858/858\u001b[0m \u001b[32m━━━━━━━━━━━━━━━━━━━━\u001b[0m\u001b[37m\u001b[0m \u001b[1m4s\u001b[0m 5ms/step - accuracy: 0.9976 - loss: 0.0089 - val_accuracy: 0.9240 - val_loss: 0.3841\n",
      "Epoch 8/15\n",
      "\u001b[1m858/858\u001b[0m \u001b[32m━━━━━━━━━━━━━━━━━━━━\u001b[0m\u001b[37m\u001b[0m \u001b[1m4s\u001b[0m 5ms/step - accuracy: 0.9981 - loss: 0.0062 - val_accuracy: 0.9370 - val_loss: 0.3445\n",
      "Epoch 9/15\n",
      "\u001b[1m858/858\u001b[0m \u001b[32m━━━━━━━━━━━━━━━━━━━━\u001b[0m\u001b[37m\u001b[0m \u001b[1m4s\u001b[0m 5ms/step - accuracy: 0.9980 - loss: 0.0058 - val_accuracy: 0.9352 - val_loss: 0.3310\n",
      "Epoch 10/15\n",
      "\u001b[1m858/858\u001b[0m \u001b[32m━━━━━━━━━━━━━━━━━━━━\u001b[0m\u001b[37m\u001b[0m \u001b[1m4s\u001b[0m 5ms/step - accuracy: 0.9987 - loss: 0.0042 - val_accuracy: 0.9360 - val_loss: 0.3048\n",
      "Epoch 11/15\n",
      "\u001b[1m858/858\u001b[0m \u001b[32m━━━━━━━━━━━━━━━━━━━━\u001b[0m\u001b[37m\u001b[0m \u001b[1m4s\u001b[0m 5ms/step - accuracy: 0.9987 - loss: 0.0039 - val_accuracy: 0.9214 - val_loss: 0.4599\n",
      "Epoch 12/15\n",
      "\u001b[1m858/858\u001b[0m \u001b[32m━━━━━━━━━━━━━━━━━━━━\u001b[0m\u001b[37m\u001b[0m \u001b[1m4s\u001b[0m 5ms/step - accuracy: 0.9992 - loss: 0.0025 - val_accuracy: 0.9257 - val_loss: 0.4807\n",
      "Epoch 13/15\n",
      "\u001b[1m858/858\u001b[0m \u001b[32m━━━━━━━━━━━━━━━━━━━━\u001b[0m\u001b[37m\u001b[0m \u001b[1m5s\u001b[0m 6ms/step - accuracy: 0.9993 - loss: 0.0034 - val_accuracy: 0.9228 - val_loss: 0.4993\n",
      "Epoch 14/15\n",
      "\u001b[1m858/858\u001b[0m \u001b[32m━━━━━━━━━━━━━━━━━━━━\u001b[0m\u001b[37m\u001b[0m \u001b[1m4s\u001b[0m 5ms/step - accuracy: 0.9993 - loss: 0.0018 - val_accuracy: 0.9385 - val_loss: 0.4532\n",
      "Epoch 15/15\n",
      "\u001b[1m858/858\u001b[0m \u001b[32m━━━━━━━━━━━━━━━━━━━━\u001b[0m\u001b[37m\u001b[0m \u001b[1m5s\u001b[0m 5ms/step - accuracy: 0.9994 - loss: 0.0016 - val_accuracy: 0.9264 - val_loss: 0.5824\n"
     ]
    }
   ],
   "source": [
    "# Train your model\n",
    "history = model.fit(train_dataset,\n",
    "                    epochs=15,\n",
    "                    validation_data=validation_dataset)"
   ]
  },
  {
   "cell_type": "markdown",
   "id": "ed0b45e5-f0ad-4f7d-b6a1-5d4ec6a190b3",
   "metadata": {
    "editable": true,
    "id": "mmpadXR_WGbK",
    "slideshow": {
     "slide_type": ""
    },
    "tags": []
   },
   "source": [
    "Now take a look at your training history:"
   ]
  },
  {
   "cell_type": "code",
   "execution_count": 17,
   "id": "4abe3c9b",
   "metadata": {
    "colab": {
     "base_uri": "https://localhost:8080/",
     "height": 545
    },
    "deletable": false,
    "editable": false,
    "id": "_Q3Zpr46dsij",
    "outputId": "906d642c-da0f-4e8e-93af-77e38570fa9b",
    "slideshow": {
     "slide_type": ""
    },
    "tags": []
   },
   "outputs": [
    {
     "data": {
      "image/png": "[encoded data removed]",
      "text/plain": [
       "<Figure size 1000x500 with 2 Axes>"
      ]
     },
     "metadata": {},
     "output_type": "display_data"
    }
   ],
   "source": [
    "# Get training and validation accuracies\n",
    "acc = history.history['accuracy']\n",
    "val_acc = history.history['val_accuracy']\n",
    "loss = history.history['loss']\n",
    "val_loss = history.history['val_loss']\n",
    "\n",
    "# Get number of epochs\n",
    "epochs = range(len(acc))\n",
    "\n",
    "fig, ax = plt.subplots(1, 2, figsize=(10, 5))\n",
    "fig.suptitle('Training and validation accuracy')\n",
    "\n",
    "for i, (data, label) in enumerate(zip([(acc, val_acc), (loss, val_loss)], [\"Accuracy\", \"Loss\"])):\n",
    "    ax[i].plot(epochs, data[0], 'r', label=\"Training \" + label)\n",
    "    ax[i].plot(epochs, data[1], 'b', label=\"Validation \" + label)\n",
    "    ax[i].legend()\n",
    "    ax[i].set_xlabel('epochs')\n",
    "\n",
    "plt.show()"
   ]
  },
  {
   "cell_type": "markdown",
   "id": "a35d88f4",
   "metadata": {
    "editable": true,
    "id": "PdWizvXnXAGz",
    "slideshow": {
     "slide_type": ""
    },
    "tags": []
   },
   "source": [
    "You will not be graded based on the accuracy of your model but try making it as high as possible for both training and validation, as an optional exercise, **after submitting your notebook for grading**.\n",
    "\n",
    "A reasonable benchmark is to achieve over 99% accuracy for training and over 95% accuracy for validation within 15 epochs. Try tweaking your model's architecture or the augmentation techniques to see if you can achieve these levels of accuracy."
   ]
  },
  {
   "cell_type": "markdown",
   "id": "85e24649",
   "metadata": {
    "editable": true,
    "id": "DmHC02GaTuDg",
    "slideshow": {
     "slide_type": ""
    },
    "tags": []
   },
   "source": [
    "**Congratulations on finishing this week's assignment!**\n",
    "\n",
    "You have successfully implemented a convolutional neural network that is able to perform multi-class classification tasks! Nice job!\n",
    "\n",
    "**Keep it up!**"
   ]
  }
 ],
 "metadata": {
  "accelerator": "GPU",
  "grader_version": "1",
  "kernelspec": {
   "display_name": "Python 3 (ipykernel)",
   "language": "python",
   "name": "python3"
  },
  "language_info": {
   "codemirror_mode": {
    "name": "ipython",
    "version": 3
   },
   "file_extension": ".py",
   "mimetype": "text/x-python",
   "name": "python",
   "nbconvert_exporter": "python",
   "pygments_lexer": "ipython3",
   "version": "3.11.0rc1"
  }
 },
 "nbformat": 4,
 "nbformat_minor": 5
}
